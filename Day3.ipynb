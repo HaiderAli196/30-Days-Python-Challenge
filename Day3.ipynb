{
  "nbformat": 4,
  "nbformat_minor": 0,
  "metadata": {
    "colab": {
      "provenance": []
    },
    "kernelspec": {
      "name": "python3",
      "display_name": "Python 3"
    },
    "language_info": {
      "name": "python"
    }
  },
  "cells": [
    {
      "cell_type": "code",
      "execution_count": 1,
      "metadata": {
        "id": "gGLPVnCkREMz"
      },
      "outputs": [],
      "source": [
        "# Recursion In python\n",
        "#Lets take an exaple of factorial\n",
        "\n",
        "def factorial(n):\n",
        "  if n==0 or n==1:\n",
        "    return 1\n",
        "  else:\n",
        "    return n * factorial(n-1)"
      ]
    },
    {
      "cell_type": "code",
      "source": [
        "factorial(5)"
      ],
      "metadata": {
        "colab": {
          "base_uri": "https://localhost:8080/"
        },
        "id": "Q11GiV-7SB6y",
        "outputId": "d7e16482-c4b5-4f26-d16e-a7ca63c96dbe"
      },
      "execution_count": 3,
      "outputs": [
        {
          "output_type": "execute_result",
          "data": {
            "text/plain": [
              "120"
            ]
          },
          "metadata": {},
          "execution_count": 3
        }
      ]
    },
    {
      "cell_type": "code",
      "source": [
        "#  Here is an example of fibonaacci sequence\n",
        "def fibonnaci(n):\n",
        "  if n==0:\n",
        "    return 0\n",
        "  elif n==1:\n",
        "    return 1\n",
        "  else:\n",
        "      return fibonnaci(n-1)+fibonnaci(n-2)"
      ],
      "metadata": {
        "id": "SCE6XV6WShsp"
      },
      "execution_count": 9,
      "outputs": []
    },
    {
      "cell_type": "code",
      "source": [
        "fibonnaci(5)"
      ],
      "metadata": {
        "colab": {
          "base_uri": "https://localhost:8080/"
        },
        "id": "4-yRowsoTFd-",
        "outputId": "9b7b9508-97ae-4f4d-f076-266ec1a904c0"
      },
      "execution_count": 14,
      "outputs": [
        {
          "output_type": "execute_result",
          "data": {
            "text/plain": [
              "5"
            ]
          },
          "metadata": {},
          "execution_count": 14
        }
      ]
    },
    {
      "cell_type": "code",
      "source": [
        "# Sets in Python (collection of welldefined obects)\n",
        "#it can  store different data types"
      ],
      "metadata": {
        "id": "mfBcudaDUjb2"
      },
      "execution_count": null,
      "outputs": []
    },
    {
      "cell_type": "code",
      "source": [
        "s1={1,2,3,4,5}\n",
        "s2={2,3,4,6}\n",
        "s3=s1.union(s2)"
      ],
      "metadata": {
        "id": "vxnExzKkUvnY"
      },
      "execution_count": 17,
      "outputs": []
    },
    {
      "cell_type": "code",
      "source": [
        "s3"
      ],
      "metadata": {
        "colab": {
          "base_uri": "https://localhost:8080/"
        },
        "id": "k4b58TbJU5X1",
        "outputId": "11ab3b5c-c86d-44e5-d4fe-a2cd68b5af82"
      },
      "execution_count": 18,
      "outputs": [
        {
          "output_type": "execute_result",
          "data": {
            "text/plain": [
              "{1, 2, 3, 4, 5, 6}"
            ]
          },
          "metadata": {},
          "execution_count": 18
        }
      ]
    },
    {
      "cell_type": "code",
      "source": [
        "\n",
        "s4={3,4,5,6}\n",
        "# We can use the update function to merge the valuesfrom two sets in one\n",
        "\n",
        "s4.update(s3)"
      ],
      "metadata": {
        "id": "Y2u_DVp_VNhg"
      },
      "execution_count": 19,
      "outputs": []
    },
    {
      "cell_type": "code",
      "source": [
        "s4"
      ],
      "metadata": {
        "colab": {
          "base_uri": "https://localhost:8080/"
        },
        "id": "fvHqelK6VSOl",
        "outputId": "c173076a-977f-40db-8249-daaff7ce3178"
      },
      "execution_count": 20,
      "outputs": [
        {
          "output_type": "execute_result",
          "data": {
            "text/plain": [
              "{1, 2, 3, 4, 5, 6}"
            ]
          },
          "metadata": {},
          "execution_count": 20
        }
      ]
    },
    {
      "cell_type": "markdown",
      "source": [
        "Adding and Removing Elements:\n",
        "\n",
        "add(element): Adds a single element to the set.\n",
        "update(iterable): Adds elements from an iterable to the set.\n",
        "remove(element): Removes the specified element from the set. Raises a KeyError if the element is not present.\n",
        "discard(element): Removes the specified element from the set if it is present. Does not raise an error if the element is not found.\n",
        "pop(): Removes and returns an arbitrary element from the set. Raises a KeyError if the set is empty."
      ],
      "metadata": {
        "id": "2XcUv2j0WZKf"
      }
    },
    {
      "cell_type": "code",
      "source": [
        "my_set = {1, 2, 3}\n",
        "\n",
        "my_set.add(4)\n",
        "my_set.update([5, 6])\n",
        "\n",
        "my_set.remove(3)\n",
        "my_set.discard(2)\n",
        "\n",
        "popped_element = my_set.pop()\n"
      ],
      "metadata": {
        "id": "x4LygueQWcxg"
      },
      "execution_count": 21,
      "outputs": []
    },
    {
      "cell_type": "markdown",
      "source": [
        "Set Operations:\n",
        "\n",
        "union(other_set): Returns a new set containing all unique elements from both sets.\n",
        "intersection(other_set): Returns a new set containing common elements between two sets.\n",
        "difference(other_set): Returns a new set with elements present in the current set but not in the other set.\n",
        "symmetric_difference(other_set): Returns a new set with elements present in either of the sets, but not in both.\n",
        "issubset(other_set): Returns True if the current set is a subset of the other set.\n",
        "issuperset(other_set): Returns True if the current set is a superset of the other set."
      ],
      "metadata": {
        "id": "urAQrPGSWjCs"
      }
    },
    {
      "cell_type": "code",
      "source": [
        "set1 = {1, 2, 3}\n",
        "set2 = {3, 4, 5}\n",
        "\n",
        "union_set = set1.union(set2)\n",
        "intersection_set = set1.intersection(set2)\n",
        "difference_set = set1.difference(set2)\n",
        "symmetric_difference_set = set1.symmetric_difference(set2)\n",
        "\n",
        "is_subset = set1.issubset(set2)\n",
        "is_superset = set1.issuperset(set2)\n"
      ],
      "metadata": {
        "id": "_uBpT30BWlrv"
      },
      "execution_count": 22,
      "outputs": []
    },
    {
      "cell_type": "markdown",
      "source": [
        "Set Operations In-Place:\n",
        "\n",
        "update(other_set): Updates the current set with elements from another set (in-place union).\n",
        "intersection_update(other_set): Updates the current set with common elements from another set (in-place intersection).\n",
        "difference_update(other_set): Updates the current set by removing elements present in another set (in-place difference).\n",
        "symmetric_difference_update(other_set): Updates the current set with elements present in either of the sets, but not in both (in-place symmetric difference)."
      ],
      "metadata": {
        "id": "2DXt5yDGWqlV"
      }
    },
    {
      "cell_type": "code",
      "source": [
        "set1 = {1, 2, 3}\n",
        "set2 = {3, 4, 5}\n",
        "\n",
        "set1.update(set2)\n",
        "set1.intersection_update(set2)\n",
        "set1.difference_update(set2)\n",
        "set1.symmetric_difference_update(set2)\n"
      ],
      "metadata": {
        "id": "Ye5g2w6gWrb-"
      },
      "execution_count": 23,
      "outputs": []
    }
  ]
}
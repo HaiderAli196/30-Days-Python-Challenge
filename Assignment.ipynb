{
  "nbformat": 4,
  "nbformat_minor": 0,
  "metadata": {
    "colab": {
      "provenance": []
    },
    "kernelspec": {
      "name": "python3",
      "display_name": "Python 3"
    },
    "language_info": {
      "name": "python"
    }
  },
  "cells": [
    {
      "cell_type": "code",
      "execution_count": 1,
      "metadata": {
        "colab": {
          "base_uri": "https://localhost:8080/"
        },
        "id": "DNZe4VWDwc0y",
        "outputId": "e11828da-35ce-4c4f-dcb8-205980cf28a7"
      },
      "outputs": [
        {
          "output_type": "stream",
          "name": "stdout",
          "text": [
            "Total Marks: 88, Grade: A\n",
            "SGPA: 3.5\n"
          ]
        }
      ],
      "source": [
        "def get_grade(total_marks):\n",
        "    if total_marks >= 90:\n",
        "        return 'A+'\n",
        "    elif total_marks >= 86:\n",
        "        return 'A'\n",
        "    elif total_marks >= 82:\n",
        "        return 'A-'\n",
        "    elif total_marks >= 78:\n",
        "        return 'B+'\n",
        "    elif total_marks >= 74:\n",
        "        return 'B'\n",
        "    elif total_marks >= 70:\n",
        "        return 'B-'\n",
        "    elif total_marks >= 66:\n",
        "        return 'C+'\n",
        "    elif total_marks >= 62:\n",
        "        return 'C'\n",
        "    elif total_marks >= 58:\n",
        "        return 'C-'\n",
        "    elif total_marks >= 54:\n",
        "        return 'D+'\n",
        "    elif total_marks >= 50:\n",
        "        return 'D'\n",
        "    else:\n",
        "        return 'F'\n",
        "\n",
        "def calculate_sgpa(grade1, grade2, grade3):\n",
        "    grades = {'A+': 4.00, 'A': 4.00, 'A-': 3.67, 'B+': 3.33, 'B': 3.00, 'B-': 2.67, 'C+': 2.33, 'C': 2.00, 'C-': 1.67, 'D+': 1.33, 'D': 1.00, 'F': 0.00}\n",
        "\n",
        "    valid_grades = [grade for grade in [grade1, grade2, grade3] if grade != 'nothing']\n",
        "\n",
        "    if not valid_grades:\n",
        "        return 0.00  # If all grades are 'nothing', return 0.00\n",
        "\n",
        "    total_points = sum(grades[grade] for grade in valid_grades)\n",
        "    sgpa = total_points / len(valid_grades)\n",
        "\n",
        "    return round(sgpa, 2)\n",
        "\n",
        "# Example usage:\n",
        "total_marks = 88\n",
        "grade = get_grade(total_marks)\n",
        "print(f'Total Marks: {total_marks}, Grade: {grade}')\n",
        "\n",
        "sgpa_result = calculate_sgpa('A', 'B', 'nothing')\n",
        "print(f'SGPA: {sgpa_result}')\n",
        "\n"
      ]
    },
    {
      "cell_type": "code",
      "source": [
        "def calculate_sgpa(*grades):\n",
        "    grade_points = {'A+': 4.00, 'A': 4.00, 'A-': 3.67, 'B+': 3.33, 'B': 3.00, 'B-': 2.67, 'C+': 2.33, 'C': 2.00, 'C-': 1.67, 'D+': 1.33, 'D': 1.00, 'F': 0.00}\n",
        "\n",
        "    valid_grades = [grade_points[grade] for grade in grades if grade != 'nothing']\n",
        "\n",
        "    if not valid_grades:\n",
        "        return 0.00\n",
        "\n",
        "    sgpa = sum(valid_grades) / len(valid_grades)\n",
        "    return round(sgpa, 2)\n"
      ],
      "metadata": {
        "id": "lWg1y5W8ztdp"
      },
      "execution_count": 2,
      "outputs": []
    },
    {
      "cell_type": "code",
      "source": [
        "calculate_sgpa(\"A\",\"A-\",\"nothing\")"
      ],
      "metadata": {
        "colab": {
          "base_uri": "https://localhost:8080/"
        },
        "id": "G3kkiMSXzvuV",
        "outputId": "804e078d-7fe7-47ae-f841-4dda797e514b"
      },
      "execution_count": 3,
      "outputs": [
        {
          "output_type": "execute_result",
          "data": {
            "text/plain": [
              "3.83"
            ]
          },
          "metadata": {},
          "execution_count": 3
        }
      ]
    }
  ]
}
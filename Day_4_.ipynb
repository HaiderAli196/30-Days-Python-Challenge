{
  "nbformat": 4,
  "nbformat_minor": 0,
  "metadata": {
    "colab": {
      "provenance": []
    },
    "kernelspec": {
      "name": "python3",
      "display_name": "Python 3"
    },
    "language_info": {
      "name": "python"
    }
  },
  "cells": [
    {
      "cell_type": "code",
      "execution_count": 6,
      "metadata": {
        "colab": {
          "base_uri": "https://localhost:8080/"
        },
        "id": "ob11ViNkIP9g",
        "outputId": "5eb62252-f901-417c-b602-d09221bc61b9"
      },
      "outputs": [
        {
          "output_type": "execute_result",
          "data": {
            "text/plain": [
              "113.09733552923255"
            ]
          },
          "metadata": {},
          "execution_count": 6
        }
      ],
      "source": [
        "from math import pi\n",
        "\n",
        "def get_area(radius):\n",
        "  return pi*(radius)**2\n",
        "g1=get_area(6)\n",
        "g1"
      ]
    },
    {
      "cell_type": "code",
      "source": [
        "def output_parameter(x):\n",
        "    return \"The perimeter of the circle with radius {x} is {x*2*pi}\"\n",
        "p1=output_parameter(9)\n",
        "p1"
      ],
      "metadata": {
        "colab": {
          "base_uri": "https://localhost:8080/",
          "height": 35
        },
        "id": "tt22ntDPJ2_K",
        "outputId": "e7217e2d-e017-4a05-85d4-556d1f324f9a"
      },
      "execution_count": 4,
      "outputs": [
        {
          "output_type": "execute_result",
          "data": {
            "text/plain": [
              "'The perimeter of the circle with radius 9 is 56.548667764616276'"
            ],
            "application/vnd.google.colaboratory.intrinsic+json": {
              "type": "string"
            }
          },
          "metadata": {},
          "execution_count": 4
        }
      ]
    }
  ]
}
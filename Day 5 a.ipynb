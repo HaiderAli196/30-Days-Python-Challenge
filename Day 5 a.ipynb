{
 "cells": [
  {
   "cell_type": "code",
   "execution_count": 1,
   "metadata": {},
   "outputs": [],
   "source": [
    "def absolute(x):\n",
    "    if x>0:\n",
    "        return x\n",
    "    elif x==0:\n",
    "        return 0\n",
    "    else:\n",
    "        return -x    \n",
    "\n"
   ]
  },
  {
   "cell_type": "code",
   "execution_count": 2,
   "metadata": {},
   "outputs": [
    {
     "data": {
      "text/plain": [
       "22"
      ]
     },
     "execution_count": 2,
     "metadata": {},
     "output_type": "execute_result"
    }
   ],
   "source": [
    "absolute(22)"
   ]
  },
  {
   "cell_type": "code",
   "execution_count": 3,
   "metadata": {},
   "outputs": [
    {
     "data": {
      "text/plain": [
       "7"
      ]
     },
     "execution_count": 3,
     "metadata": {},
     "output_type": "execute_result"
    }
   ],
   "source": [
    "absolute(-7)"
   ]
  },
  {
   "cell_type": "markdown",
   "metadata": {},
   "source": [
    "### Another way of writing the same function"
   ]
  },
  {
   "cell_type": "code",
   "execution_count": 17,
   "metadata": {},
   "outputs": [],
   "source": [
    "def absolute_value(x):\n",
    "    if not x<0:\n",
    "        return x\n",
    "    else:\n",
    "        return -x    \n"
   ]
  },
  {
   "cell_type": "code",
   "execution_count": 18,
   "metadata": {},
   "outputs": [
    {
     "name": "stdout",
     "output_type": "stream",
     "text": [
      "0\n"
     ]
    }
   ],
   "source": [
    "val=absolute_value(0)\n",
    "print(val)\n"
   ]
  },
  {
   "cell_type": "markdown",
   "metadata": {},
   "source": [
    "### Nested If Statements"
   ]
  },
  {
   "cell_type": "code",
   "execution_count": 19,
   "metadata": {},
   "outputs": [
    {
     "name": "stdout",
     "output_type": "stream",
     "text": [
      "a is more than 5 and b is more than 6\n",
      "Done\n"
     ]
    }
   ],
   "source": [
    "a=6\n",
    "b=9\n",
    "if a>5:\n",
    "    if b>6:\n",
    "        print(\"a is more than 5 and b is more than 6\")\n",
    "    else:\n",
    "        print(\"a is more thn 5 bt b is not more than 6\") \n",
    "else:\n",
    "    print(\"a is not more tha 5\") \n",
    "print(\"Done\")              "
   ]
  },
  {
   "cell_type": "code",
   "execution_count": 20,
   "metadata": {},
   "outputs": [
    {
     "name": "stdout",
     "output_type": "stream",
     "text": [
      "a is not more tha 5\n",
      "Done\n"
     ]
    }
   ],
   "source": [
    "a=4\n",
    "b=9\n",
    "if a>5:\n",
    "    if b>6:\n",
    "        print(\"a is more than 5 and b is more than 6\")\n",
    "    else:\n",
    "        print(\"a is more thn 5 bt b is not more than 6\") \n",
    "else:\n",
    "    print(\"a is not more tha 5\") \n",
    "print(\"Done\")    "
   ]
  },
  {
   "cell_type": "code",
   "execution_count": 21,
   "metadata": {},
   "outputs": [
    {
     "name": "stdout",
     "output_type": "stream",
     "text": [
      "a is more thn 5 bt b is not more than 6\n",
      "Done\n"
     ]
    }
   ],
   "source": [
    "a=6\n",
    "b=5\n",
    "if a>5:\n",
    "    if b>6:\n",
    "        print(\"a is more than 5 and b is more than 6\")\n",
    "    else:\n",
    "        print(\"a is more thn 5 bt b is not more than 6\") \n",
    "else:\n",
    "    print(\"a is not more tha 5\") \n",
    "print(\"Done\")    "
   ]
  },
  {
   "cell_type": "markdown",
   "metadata": {},
   "source": [
    "### Writing function for square root\n"
   ]
  },
  {
   "cell_type": "code",
   "execution_count": 22,
   "metadata": {},
   "outputs": [],
   "source": [
    "def sqrt(x,guess=0.0):\n",
    "    if good_enough(guess,x):\n",
    "        return guess\n",
    "    else:\n",
    "        new_guess=improve_guess(guess,x) \n",
    "        return sqrt(x,new_guess)\n"
   ]
  },
  {
   "cell_type": "code",
   "execution_count": 23,
   "metadata": {},
   "outputs": [],
   "source": [
    "def good_enough(guess,x):\n",
    "    if abs(guess*guess-x)<0.1:\n",
    "        return True\n",
    "    else:\n",
    "        return False    "
   ]
  },
  {
   "cell_type": "code",
   "execution_count": 24,
   "metadata": {},
   "outputs": [],
   "source": [
    "def improve_guess(guess,x):\n",
    "    if guess<x:\n",
    "        return guess + 0.1\n",
    "    else:\n",
    "        return guess - 0.1"
   ]
  },
  {
   "cell_type": "code",
   "execution_count": 26,
   "metadata": {},
   "outputs": [
    {
     "name": "stdout",
     "output_type": "stream",
     "text": [
      "2.0\n"
     ]
    }
   ],
   "source": [
    "v=sqrt(4,1.8)\n",
    "print(v)"
   ]
  }
 ],
 "metadata": {
  "kernelspec": {
   "display_name": "Python 3",
   "language": "python",
   "name": "python3"
  },
  "language_info": {
   "codemirror_mode": {
    "name": "ipython",
    "version": 3
   },
   "file_extension": ".py",
   "mimetype": "text/x-python",
   "name": "python",
   "nbconvert_exporter": "python",
   "pygments_lexer": "ipython3",
   "version": "3.10.11"
  }
 },
 "nbformat": 4,
 "nbformat_minor": 2
}
